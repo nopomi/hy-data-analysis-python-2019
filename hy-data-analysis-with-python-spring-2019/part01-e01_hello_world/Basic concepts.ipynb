{
 "cells": [
  {
   "cell_type": "code",
   "execution_count": 3,
   "metadata": {},
   "outputs": [
    {
     "name": "stdout",
     "output_type": "stream",
     "text": [
      "Hello, my name is Miska\n"
     ]
    }
   ],
   "source": [
    "print(\"Hello,\", \"my\", \"name\", \"is\", \"Miska\")"
   ]
  },
  {
   "cell_type": "code",
   "execution_count": 5,
   "metadata": {},
   "outputs": [
    {
     "name": "stdout",
     "output_type": "stream",
     "text": [
      "What is your name? Miska\n",
      "Nice to meet you,  Miska\n"
     ]
    }
   ],
   "source": [
    "name=input(\"What is your name? \")\n",
    "print(\"Nice to meet you, \", name)"
   ]
  },
  {
   "cell_type": "code",
   "execution_count": 8,
   "metadata": {},
   "outputs": [
    {
     "name": "stdout",
     "output_type": "stream",
     "text": [
      "0 is the current number\n",
      "1 is the current number\n",
      "2 is the current number\n",
      "3 is the current number\n",
      "4 is the current number\n"
     ]
    }
   ],
   "source": [
    "for index in range(5):\n",
    "    print(index, \"is the current number\")"
   ]
  },
  {
   "cell_type": "code",
   "execution_count": null,
   "metadata": {},
   "outputs": [],
   "source": []
  }
 ],
 "metadata": {
  "kernelspec": {
   "display_name": "Python 3",
   "language": "python",
   "name": "python3"
  },
  "language_info": {
   "codemirror_mode": {
    "name": "ipython",
    "version": 3
   },
   "file_extension": ".py",
   "mimetype": "text/x-python",
   "name": "python",
   "nbconvert_exporter": "python",
   "pygments_lexer": "ipython3",
   "version": "3.6.5"
  }
 },
 "nbformat": 4,
 "nbformat_minor": 2
}
