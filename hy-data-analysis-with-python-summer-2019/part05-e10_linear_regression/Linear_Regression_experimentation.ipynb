{
 "cells": [
  {
   "cell_type": "code",
   "execution_count": 1,
   "metadata": {},
   "outputs": [],
   "source": [
    "import numpy as np\n",
    "import matplotlib.pyplot as plt\n",
    "import sklearn"
   ]
  },
  {
   "cell_type": "code",
   "execution_count": 2,
   "metadata": {},
   "outputs": [],
   "source": [
    "n = 20"
   ]
  },
  {
   "cell_type": "code",
   "execution_count": 3,
   "metadata": {},
   "outputs": [],
   "source": [
    "x = np.linspace(0, 10, n)"
   ]
  },
  {
   "cell_type": "code",
   "execution_count": 4,
   "metadata": {},
   "outputs": [],
   "source": [
    "y = x*2 + 1 + 1.5*np.random.randn(n)"
   ]
  },
  {
   "cell_type": "code",
   "execution_count": 5,
   "metadata": {},
   "outputs": [
    {
     "data": {
      "text/plain": [
       "array([ 0.        ,  0.52631579,  1.05263158,  1.57894737,  2.10526316,\n",
       "        2.63157895,  3.15789474,  3.68421053,  4.21052632,  4.73684211,\n",
       "        5.26315789,  5.78947368,  6.31578947,  6.84210526,  7.36842105,\n",
       "        7.89473684,  8.42105263,  8.94736842,  9.47368421, 10.        ])"
      ]
     },
     "execution_count": 5,
     "metadata": {},
     "output_type": "execute_result"
    }
   ],
   "source": [
    "x"
   ]
  },
  {
   "cell_type": "code",
   "execution_count": 6,
   "metadata": {},
   "outputs": [
    {
     "data": {
      "text/plain": [
       "array([ 1.90890702,  2.58679623,  4.02193533,  5.45368729,  4.47377454,\n",
       "        6.48141406,  5.49611905,  7.10437836, 11.16824042, 10.53199844,\n",
       "       14.106331  , 12.72480293, 13.06684401, 13.58045511, 17.43428788,\n",
       "       19.17254646, 16.39822733, 20.80773747, 22.12102225, 21.33072051])"
      ]
     },
     "execution_count": 6,
     "metadata": {},
     "output_type": "execute_result"
    }
   ],
   "source": [
    "y"
   ]
  },
  {
   "cell_type": "code",
   "execution_count": 7,
   "metadata": {},
   "outputs": [],
   "source": [
    "from sklearn.linear_model import LinearRegression"
   ]
  },
  {
   "cell_type": "code",
   "execution_count": 8,
   "metadata": {},
   "outputs": [],
   "source": [
    "model = LinearRegression()"
   ]
  },
  {
   "cell_type": "code",
   "execution_count": 9,
   "metadata": {},
   "outputs": [
    {
     "data": {
      "text/plain": [
       "LinearRegression(copy_X=True, fit_intercept=True, n_jobs=None, normalize=False)"
      ]
     },
     "execution_count": 9,
     "metadata": {},
     "output_type": "execute_result"
    }
   ],
   "source": [
    "model.fit(x[:, np.newaxis], y)"
   ]
  },
  {
   "cell_type": "code",
   "execution_count": 10,
   "metadata": {},
   "outputs": [],
   "source": [
    "xfit = np.linspace(0,10,100)"
   ]
  },
  {
   "cell_type": "code",
   "execution_count": 11,
   "metadata": {},
   "outputs": [],
   "source": [
    "yfit = model.predict(xfit[:, np.newaxis])"
   ]
  },
  {
   "cell_type": "code",
   "execution_count": 12,
   "metadata": {},
   "outputs": [
    {
     "data": {
      "text/plain": [
       "[<matplotlib.lines.Line2D at 0x7f31c3b06910>,\n",
       " <matplotlib.lines.Line2D at 0x7f31c3b1c110>,\n",
       " <matplotlib.lines.Line2D at 0x7f31c3b1c2d0>,\n",
       " <matplotlib.lines.Line2D at 0x7f31c3b1c490>,\n",
       " <matplotlib.lines.Line2D at 0x7f31c3b1c650>,\n",
       " <matplotlib.lines.Line2D at 0x7f31c3b1c7d0>,\n",
       " <matplotlib.lines.Line2D at 0x7f31c3b1ca10>,\n",
       " <matplotlib.lines.Line2D at 0x7f31c3b1cbd0>,\n",
       " <matplotlib.lines.Line2D at 0x7f31c3b1cd90>,\n",
       " <matplotlib.lines.Line2D at 0x7f31c3b1c810>,\n",
       " <matplotlib.lines.Line2D at 0x7f31c3b20110>,\n",
       " <matplotlib.lines.Line2D at 0x7f31c3b202d0>,\n",
       " <matplotlib.lines.Line2D at 0x7f31c3b20490>,\n",
       " <matplotlib.lines.Line2D at 0x7f31c3b20650>,\n",
       " <matplotlib.lines.Line2D at 0x7f31c3b20810>,\n",
       " <matplotlib.lines.Line2D at 0x7f31c3b209d0>,\n",
       " <matplotlib.lines.Line2D at 0x7f31c3b20b90>,\n",
       " <matplotlib.lines.Line2D at 0x7f31c3b20d50>,\n",
       " <matplotlib.lines.Line2D at 0x7f31c3b20f10>,\n",
       " <matplotlib.lines.Line2D at 0x7f31c3aa3110>]"
      ]
     },
     "execution_count": 12,
     "metadata": {},
     "output_type": "execute_result"
    },
    {
     "data": {
      "image/png": "[encoded data removed]",
      "text/plain": [
       "<Figure size 432x288 with 1 Axes>"
      ]
     },
     "metadata": {
      "needs_background": "light"
     },
     "output_type": "display_data"
    }
   ],
   "source": [
    "plt.plot(xfit, yfit, color=\"black\")\n",
    "plt.plot(x,y,'o')\n",
    "plt.plot(np.vstack([x,x]), np.vstack([y, model.predict(x[:, np.newaxis])]), color=\"red\")"
   ]
  },
  {
   "cell_type": "code",
   "execution_count": 13,
   "metadata": {},
   "outputs": [
    {
     "name": "stdout",
     "output_type": "stream",
     "text": [
      "Parameters: [2.07153058] 1.1408583723958685\n",
      "Coefficient: 2.0715305822644883\n",
      "Intercept: 1.1408583723958685\n"
     ]
    }
   ],
   "source": [
    "print(\"Parameters:\", model.coef_, model.intercept_)\n",
    "print(\"Coefficient:\", model.coef_[0])\n",
    "print(\"Intercept:\", model.intercept_)"
   ]
  },
  {
   "cell_type": "code",
   "execution_count": null,
   "metadata": {},
   "outputs": [],
   "source": []
  },
  {
   "cell_type": "code",
   "execution_count": null,
   "metadata": {},
   "outputs": [],
   "source": []
  }
 ],
 "metadata": {
  "kernelspec": {
   "display_name": "Python 3",
   "language": "python",
   "name": "python3"
  },
  "language_info": {
   "codemirror_mode": {
    "name": "ipython",
    "version": 3
   },
   "file_extension": ".py",
   "mimetype": "text/x-python",
   "name": "python",
   "nbconvert_exporter": "python",
   "pygments_lexer": "ipython3",
   "version": "3.7.4"
  }
 },
 "nbformat": 4,
 "nbformat_minor": 2
}
